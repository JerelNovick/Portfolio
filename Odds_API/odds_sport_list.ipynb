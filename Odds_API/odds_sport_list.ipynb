{
 "cells": [
  {
   "cell_type": "markdown",
   "metadata": {},
   "source": [
    "This is designed to pull in the complete list of sports for which odds are currently available"
   ]
  },
  {
   "cell_type": "code",
   "execution_count": 1,
   "metadata": {
    "id": "12myAxaqUaSH"
   },
   "outputs": [],
   "source": [
    "#import packages\n",
    "import json\n",
    "import requests\n",
    "import pandas as pd\n",
    "import inquirer"
   ]
  },
  {
   "cell_type": "code",
   "execution_count": 2,
   "metadata": {
    "id": "j7YSQOKCVGGC"
   },
   "outputs": [],
   "source": [
    "#You can obtain an API key at https://the-odds-api.com/#get-access\n",
    "#They offer a free key with a limit of 500 request per month or reasonably month subscriptions that\n",
    "#have much higher limits.\n",
    "api_key = '53b2f82655678dcededa06b29f097a0c'"
   ]
  },
  {
   "cell_type": "code",
   "execution_count": 3,
   "metadata": {
    "id": "kiXOm_3KVAZh"
   },
   "outputs": [
    {
     "name": "stdout",
     "output_type": "stream",
     "text": [
      "Remaining requests 417\n",
      "Used requests 83\n"
     ]
    }
   ],
   "source": [
    "#This is the endpoint to pull in their list of sports.\n",
    "#Using all and outrights are both optional\n",
    "#You can set both of them to either 'true' or 'false'.\n",
    "#If they aree not included, all will default to false and outrights will default to true\n",
    "#All will retreive a sport whether or not their is currently a market for it.\n",
    "#Outrights will retrieve the odds for the overall winner of an event such as who will will the Super Bowl.\n",
    "#For demonstration purposes I have set both of them to true to show the full spectrum of available sports.\n",
    "\n",
    "sports_response = requests.get('https://api.the-odds-api.com/v4/sports', params={\n",
    "    'api_key': api_key,'all':'true','outrights':'true'})\n",
    "\n",
    "#convert the response to a json.\n",
    "sports_json = json.loads(sports_response.text)\n",
    "\n",
    "#This will display your subscription usage for the month.\n",
    "print('Remaining requests', sports_response.headers['x-requests-remaining'])\n",
    "print('Used requests', sports_response.headers['x-requests-used'])\n"
   ]
  },
  {
   "cell_type": "code",
   "execution_count": 4,
   "metadata": {
    "executionInfo": {
     "elapsed": 314,
     "status": "ok",
     "timestamp": 1645804642540,
     "user": {
      "displayName": "Jerel Novick",
      "photoUrl": "https://lh3.googleusercontent.com/a-/AOh14Gh1cquox7NPZTVCxVPynYepCmzJVjLsRehi9t6hQw=s64",
      "userId": "16312022336704356501"
     },
     "user_tz": 300
    },
    "id": "j3CzYc4WVk3-"
   },
   "outputs": [],
   "source": [
    "#convert the json to a dataframe\n",
    "columns=['Sport', 'Detail','Key','Outrights','Active']\n",
    "sports_list=pd.DataFrame(columns = columns)\n",
    "for i in range(0,len(sports_json)):\n",
    "    sports_list=sports_list.append(pd.Series([sports_json[i]['group'],\n",
    "                                          sports_json[i]['title'],\n",
    "                                          sports_json[i]['key'], sports_json[i]['has_outrights'],\n",
    "                                        sports_json[i]['active']],index = columns),ignore_index = True)"
   ]
  },
  {
   "cell_type": "code",
   "execution_count": 5,
   "metadata": {
    "colab": {
     "base_uri": "https://localhost:8080/",
     "height": 1000
    },
    "executionInfo": {
     "elapsed": 350,
     "status": "ok",
     "timestamp": 1645804648360,
     "user": {
      "displayName": "Jerel Novick",
      "photoUrl": "https://lh3.googleusercontent.com/a-/AOh14Gh1cquox7NPZTVCxVPynYepCmzJVjLsRehi9t6hQw=s64",
      "userId": "16312022336704356501"
     },
     "user_tz": 300
    },
    "id": "351IXu0vXsKR",
    "outputId": "13bdaafc-8d60-47a1-9640-063fec01b8a0"
   },
   "outputs": [
    {
     "data": {
      "text/html": [
       "<div>\n",
       "<style scoped>\n",
       "    .dataframe tbody tr th:only-of-type {\n",
       "        vertical-align: middle;\n",
       "    }\n",
       "\n",
       "    .dataframe tbody tr th {\n",
       "        vertical-align: top;\n",
       "    }\n",
       "\n",
       "    .dataframe thead th {\n",
       "        text-align: right;\n",
       "    }\n",
       "</style>\n",
       "<table border=\"1\" class=\"dataframe\">\n",
       "  <thead>\n",
       "    <tr style=\"text-align: right;\">\n",
       "      <th></th>\n",
       "      <th>Sport</th>\n",
       "      <th>Detail</th>\n",
       "      <th>Key</th>\n",
       "      <th>Outrights</th>\n",
       "      <th>Active</th>\n",
       "    </tr>\n",
       "  </thead>\n",
       "  <tbody>\n",
       "    <tr>\n",
       "      <th>0</th>\n",
       "      <td>American Football</td>\n",
       "      <td>NCAAF</td>\n",
       "      <td>americanfootball_ncaaf</td>\n",
       "      <td>False</td>\n",
       "      <td>False</td>\n",
       "    </tr>\n",
       "    <tr>\n",
       "      <th>1</th>\n",
       "      <td>American Football</td>\n",
       "      <td>NFL</td>\n",
       "      <td>americanfootball_nfl</td>\n",
       "      <td>False</td>\n",
       "      <td>False</td>\n",
       "    </tr>\n",
       "    <tr>\n",
       "      <th>2</th>\n",
       "      <td>American Football</td>\n",
       "      <td>NFL Super Bowl Winner</td>\n",
       "      <td>americanfootball_nfl_super_bowl_winner</td>\n",
       "      <td>True</td>\n",
       "      <td>True</td>\n",
       "    </tr>\n",
       "    <tr>\n",
       "      <th>3</th>\n",
       "      <td>Aussie Rules</td>\n",
       "      <td>AFL</td>\n",
       "      <td>aussierules_afl</td>\n",
       "      <td>False</td>\n",
       "      <td>True</td>\n",
       "    </tr>\n",
       "    <tr>\n",
       "      <th>4</th>\n",
       "      <td>Baseball</td>\n",
       "      <td>MLB</td>\n",
       "      <td>baseball_mlb</td>\n",
       "      <td>False</td>\n",
       "      <td>False</td>\n",
       "    </tr>\n",
       "    <tr>\n",
       "      <th>...</th>\n",
       "      <td>...</td>\n",
       "      <td>...</td>\n",
       "      <td>...</td>\n",
       "      <td>...</td>\n",
       "      <td>...</td>\n",
       "    </tr>\n",
       "    <tr>\n",
       "      <th>69</th>\n",
       "      <td>Tennis</td>\n",
       "      <td>ATP Wimbledon</td>\n",
       "      <td>tennis_atp_wimbledon</td>\n",
       "      <td>False</td>\n",
       "      <td>False</td>\n",
       "    </tr>\n",
       "    <tr>\n",
       "      <th>70</th>\n",
       "      <td>Tennis</td>\n",
       "      <td>WTA Australian Open</td>\n",
       "      <td>tennis_wta_aus_open_singles</td>\n",
       "      <td>False</td>\n",
       "      <td>False</td>\n",
       "    </tr>\n",
       "    <tr>\n",
       "      <th>71</th>\n",
       "      <td>Tennis</td>\n",
       "      <td>WTA French Open</td>\n",
       "      <td>tennis_wta_french_open</td>\n",
       "      <td>False</td>\n",
       "      <td>False</td>\n",
       "    </tr>\n",
       "    <tr>\n",
       "      <th>72</th>\n",
       "      <td>Tennis</td>\n",
       "      <td>WTA US Open</td>\n",
       "      <td>tennis_wta_us_open</td>\n",
       "      <td>False</td>\n",
       "      <td>False</td>\n",
       "    </tr>\n",
       "    <tr>\n",
       "      <th>73</th>\n",
       "      <td>Tennis</td>\n",
       "      <td>WTA Wimbledon</td>\n",
       "      <td>tennis_wta_wimbledon</td>\n",
       "      <td>False</td>\n",
       "      <td>False</td>\n",
       "    </tr>\n",
       "  </tbody>\n",
       "</table>\n",
       "<p>74 rows × 5 columns</p>\n",
       "</div>"
      ],
      "text/plain": [
       "                Sport                 Detail  \\\n",
       "0   American Football                  NCAAF   \n",
       "1   American Football                    NFL   \n",
       "2   American Football  NFL Super Bowl Winner   \n",
       "3        Aussie Rules                    AFL   \n",
       "4            Baseball                    MLB   \n",
       "..                ...                    ...   \n",
       "69             Tennis          ATP Wimbledon   \n",
       "70             Tennis    WTA Australian Open   \n",
       "71             Tennis        WTA French Open   \n",
       "72             Tennis            WTA US Open   \n",
       "73             Tennis          WTA Wimbledon   \n",
       "\n",
       "                                       Key Outrights Active  \n",
       "0                   americanfootball_ncaaf     False  False  \n",
       "1                     americanfootball_nfl     False  False  \n",
       "2   americanfootball_nfl_super_bowl_winner      True   True  \n",
       "3                          aussierules_afl     False   True  \n",
       "4                             baseball_mlb     False  False  \n",
       "..                                     ...       ...    ...  \n",
       "69                    tennis_atp_wimbledon     False  False  \n",
       "70             tennis_wta_aus_open_singles     False  False  \n",
       "71                  tennis_wta_french_open     False  False  \n",
       "72                      tennis_wta_us_open     False  False  \n",
       "73                    tennis_wta_wimbledon     False  False  \n",
       "\n",
       "[74 rows x 5 columns]"
      ]
     },
     "execution_count": 5,
     "metadata": {},
     "output_type": "execute_result"
    }
   ],
   "source": [
    "#show the list of available sports, whether they offer outrights and are currently active\n",
    "sports_list\n",
    "\n",
    "#Sport is the overall type of sports.\n",
    "#Detail is the league or name of the event.\n",
    "#Key is the short name that the API uses to retrieve that specific sport.\n",
    "#The key field is feautured in my other notebooks."
   ]
  },
  {
   "cell_type": "code",
   "execution_count": 6,
   "metadata": {
    "colab": {
     "base_uri": "https://localhost:8080/"
    },
    "executionInfo": {
     "elapsed": 28457,
     "status": "ok",
     "timestamp": 1645804718565,
     "user": {
      "displayName": "Jerel Novick",
      "photoUrl": "https://lh3.googleusercontent.com/a-/AOh14Gh1cquox7NPZTVCxVPynYepCmzJVjLsRehi9t6hQw=s64",
      "userId": "16312022336704356501"
     },
     "user_tz": 300
    },
    "id": "PlXc2Hf5XuB4",
    "outputId": "dd21a425-3ac6-43ee-81eb-b0f28836bdc6"
   },
   "outputs": [
    {
     "name": "stdout",
     "output_type": "stream",
     "text": [
      "1 : NCAAF\n",
      "2 : NFL\n",
      "3 : NFL Super Bowl Winner\n",
      "4 : AFL\n",
      "5 : MLB\n",
      "6 : MLB World Series Winner\n",
      "7 : Basketball Euroleague\n",
      "8 : NBA\n",
      "9 : NBA Championship Winner\n",
      "10 : NCAAB\n",
      "11 : Big Bash\n",
      "12 : ICC World Cup\n",
      "13 : IPL\n",
      "14 : One Day Internationals\n",
      "15 : Test Matches\n",
      "16 : Masters Tournament Winner\n",
      "17 : PGA Championship Winner\n",
      "18 : The Open Winner\n",
      "19 : US Open Winner\n",
      "20 : NHL\n",
      "21 : NHL Championship Winner\n",
      "22 : HockeyAllsvenskan\n",
      "23 : SHL\n",
      "24 : MMA\n",
      "25 : US Presidential Elections Winner\n",
      "26 : NRL\n",
      "27 : Africa Cup of Nations\n",
      "28 : Primera División - Argentina\n",
      "29 : A-League\n",
      "30 : Belgium First Div\n",
      "31 : Brazil Série A\n",
      "32 : Super League - China\n",
      "33 : Denmark Superliga\n",
      "34 : Championship\n",
      "35 : EFL Cup\n",
      "36 : League 1\n",
      "37 : League 2\n",
      "38 : EPL\n",
      "39 : FA Cup\n",
      "40 : FIFA World Cup\n",
      "41 : Veikkausliiga - Finland\n",
      "42 : Ligue 1 - France\n",
      "43 : Ligue 2 - France\n",
      "44 : Bundesliga - Germany\n",
      "45 : Bundesliga 2 - Germany\n",
      "46 : Serie A - Italy\n",
      "47 : Serie B - Italy\n",
      "48 : J League\n",
      "49 : K League 1\n",
      "50 : League of Ireland\n",
      "51 : Liga MX\n",
      "52 : Dutch Eredivisie\n",
      "53 : Eliteserien - Norway\n",
      "54 : Primeira Liga - Portugal\n",
      "55 : Premier League - Russia\n",
      "56 : La Liga - Spain\n",
      "57 : La Liga 2 - Spain\n",
      "58 : Premiership - Scotland\n",
      "59 : Allsvenskan - Sweden\n",
      "60 : Superettan - Sweden\n",
      "61 : Swiss Superleague\n",
      "62 : Turkey Super League\n",
      "63 : UEFA Champions\n",
      "64 : UEFA Europa\n",
      "65 : UEFA Euro 2020\n",
      "66 : MLS\n",
      "67 : ATP Australian Open\n",
      "68 : ATP French Open\n",
      "69 : ATP US Open\n",
      "70 : ATP Wimbledon\n",
      "71 : WTA Australian Open\n",
      "72 : WTA French Open\n",
      "73 : WTA US Open\n",
      "74 : WTA Wimbledon\n",
      "Select a sport:5\n"
     ]
    }
   ],
   "source": [
    "#This is the begining of future code that will all the user to pick the sport they would like to retrieve.\n",
    "#First I turn the Detail and Key columns from the dataframe into lists.\n",
    "long_name = sports_list['Detail'].tolist()\n",
    "short_name = sports_list['Key'].tolist()\n",
    "\n",
    "#This creates a dictionary with the Detail (long_name) as the key and Key (short_name) as the value.\n",
    "sport_dict={}\n",
    "for q in range(0,len(long_name)):\n",
    "    sport_dict[long_name[q]]=short_name[q]\n",
    "\n",
    "#This produces a numbered list where the user will that the option to select the sport they would like to see.\n",
    "i=1\n",
    "for s in sport_dict:\n",
    "    print(i,\":\",s)\n",
    "    i=i+1\n",
    "sport_dic=list(sport_dict.values())\n",
    "dic=int(input(\"Select a sport:\"))\n",
    "dic=dic-1"
   ]
  },
  {
   "cell_type": "code",
   "execution_count": 7,
   "metadata": {
    "colab": {
     "base_uri": "https://localhost:8080/",
     "height": 35
    },
    "executionInfo": {
     "elapsed": 13,
     "status": "ok",
     "timestamp": 1645804729879,
     "user": {
      "displayName": "Jerel Novick",
      "photoUrl": "https://lh3.googleusercontent.com/a-/AOh14Gh1cquox7NPZTVCxVPynYepCmzJVjLsRehi9t6hQw=s64",
      "userId": "16312022336704356501"
     },
     "user_tz": 300
    },
    "id": "bAOs7warYowA",
    "outputId": "4f397d29-6443-47fa-cec9-a4b653ae45f0"
   },
   "outputs": [
    {
     "data": {
      "text/plain": [
       "'baseball_mlb'"
      ]
     },
     "execution_count": 7,
     "metadata": {},
     "output_type": "execute_result"
    }
   ],
   "source": [
    "#Testing the result of my interactive list.\n",
    "sport_dic[dic]"
   ]
  },
  {
   "cell_type": "code",
   "execution_count": null,
   "metadata": {
    "id": "bczNqfQrYyfD"
   },
   "outputs": [],
   "source": []
  }
 ],
 "metadata": {
  "colab": {
   "authorship_tag": "ABX9TyNdHEyDTp60cJjrhXaPl3C/",
   "collapsed_sections": [],
   "name": "odds_sport_list.ipynb",
   "provenance": []
  },
  "kernelspec": {
   "display_name": "Python 3 (ipykernel)",
   "language": "python",
   "name": "python3"
  },
  "language_info": {
   "codemirror_mode": {
    "name": "ipython",
    "version": 3
   },
   "file_extension": ".py",
   "mimetype": "text/x-python",
   "name": "python",
   "nbconvert_exporter": "python",
   "pygments_lexer": "ipython3",
   "version": "3.7.10"
  }
 },
 "nbformat": 4,
 "nbformat_minor": 1
}
