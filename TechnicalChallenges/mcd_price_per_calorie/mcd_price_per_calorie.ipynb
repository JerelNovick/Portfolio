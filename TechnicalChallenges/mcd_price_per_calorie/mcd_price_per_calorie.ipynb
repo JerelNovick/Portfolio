{
 "cells": [
  {
   "cell_type": "markdown",
   "id": "thick-drive",
   "metadata": {},
   "source": [
    "<p>Given the following datasets, containing both price and calorie information for McDonald's food items:</p>\n",
    "<ul>\n",
    "<li><a href=\"https://raw.githubusercontent.com/erood/interviewqs.com_code_snippets/master/Datasets/mcD_food_prices.csv\">McDonald's menu item prices</a></li>\n",
    "<li><a href=\"https://raw.githubusercontent.com/erood/interviewqs.com_code_snippets/master/Datasets/mcD_food_calories.csv\">McDonald's menu item calories</a></li>\n",
    "</ul>\n",
    "<p>Write code to merge the two datasets, calculate the price per calorie of food, and stack rank the foods from the 'best value' (most calories per dollar*) to 'worst value' (least calories per dollar*).</p>\n",
    "<p><i>*There are of course nuances in nutritional benefits, protein, etc, but we're simplifying here for the purposes of these definitions and assuming someone wants to optimize purely for cost of calories</i>.</p>"
   ]
  },
  {
   "cell_type": "code",
   "execution_count": null,
   "id": "obvious-vocabulary",
   "metadata": {},
   "outputs": [],
   "source": [
    "import numpy as np\n",
    "import pandas as pd\n",
    "import pandas_profiling as pp"
   ]
  },
  {
   "cell_type": "code",
   "execution_count": null,
   "id": "hearing-mileage",
   "metadata": {},
   "outputs": [],
   "source": [
    "calories = pd.read_csv('https://raw.githubusercontent.com/erood/interviewqs.com_code_snippets/master/Datasets/mcD_food_calories.csv')\n",
    "prices = pd.read_csv('https://raw.githubusercontent.com/erood/interviewqs.com_code_snippets/master/Datasets/mcD_food_prices.csv')"
   ]
  },
  {
   "cell_type": "code",
   "execution_count": null,
   "id": "breeding-commitment",
   "metadata": {},
   "outputs": [],
   "source": [
    "calories.head(5)"
   ]
  },
  {
   "cell_type": "code",
   "execution_count": null,
   "id": "sufficient-priest",
   "metadata": {},
   "outputs": [],
   "source": [
    "pp.ProfileReport(calories)"
   ]
  },
  {
   "cell_type": "code",
   "execution_count": null,
   "id": "blond-heather",
   "metadata": {},
   "outputs": [],
   "source": [
    "prices.head(5)"
   ]
  },
  {
   "cell_type": "code",
   "execution_count": null,
   "id": "indonesian-classics",
   "metadata": {},
   "outputs": [],
   "source": [
    "pp.ProfileReport(prices)"
   ]
  },
  {
   "cell_type": "code",
   "execution_count": null,
   "id": "emotional-concert",
   "metadata": {},
   "outputs": [],
   "source": [
    "merged = prices.merge(calories, how='left', on=\"Food\")\n",
    "merged.head(5)"
   ]
  },
  {
   "cell_type": "code",
   "execution_count": null,
   "id": "supported-honolulu",
   "metadata": {},
   "outputs": [],
   "source": [
    "#create price per calorie column\n",
    "merged['price_per_calorie'] = merged['Price_USD']/merged['Calories']\n",
    "#sort by price per calorie\n",
    "merged = merged.sort_values(by='price_per_calorie', ascending=True)\n",
    "#show the least expensive items \n",
    "merged.head(10)"
   ]
  },
  {
   "cell_type": "code",
   "execution_count": null,
   "id": "abstract-happiness",
   "metadata": {},
   "outputs": [],
   "source": [
    "#show the most expensive item\n",
    "merged.tail(10)"
   ]
  },
  {
   "cell_type": "code",
   "execution_count": null,
   "id": "second-restriction",
   "metadata": {},
   "outputs": [],
   "source": []
  }
 ],
 "metadata": {
  "kernelspec": {
   "display_name": "Python 3",
   "language": "python",
   "name": "python3"
  },
  "language_info": {
   "codemirror_mode": {
    "name": "ipython",
    "version": 3
   },
   "file_extension": ".py",
   "mimetype": "text/x-python",
   "name": "python",
   "nbconvert_exporter": "python",
   "pygments_lexer": "ipython3",
   "version": "3.7.0"
  }
 },
 "nbformat": 4,
 "nbformat_minor": 5
}
