{
 "cells": [
  {
   "cell_type": "markdown",
   "metadata": {},
   "source": [
    "Finding the value closest to j"
   ]
  },
  {
   "cell_type": "markdown",
   "metadata": {},
   "source": [
    "Suppose you are given a list of <b>Q</b> 1D points. Return the value in Q that is the closest to value j.\n",
    "\n",
    "Example:\n",
    "<pre>\n",
    "Q = [1, -1, -5, 2, 4, -2, 1]\n",
    "\n",
    "j = 3\n",
    "</pre>\n",
    "\n",
    "The answer in this case is 2."
   ]
  },
  {
   "cell_type": "code",
   "execution_count": 1,
   "metadata": {
    "ExecuteTime": {
     "end_time": "2021-02-04T23:13:18.922413Z",
     "start_time": "2021-02-04T23:13:18.780368Z"
    }
   },
   "outputs": [],
   "source": [
    "import numpy as np"
   ]
  },
  {
   "cell_type": "code",
   "execution_count": 2,
   "metadata": {
    "ExecuteTime": {
     "end_time": "2021-02-04T23:13:19.696740Z",
     "start_time": "2021-02-04T23:13:19.691305Z"
    }
   },
   "outputs": [],
   "source": [
    "def find_closest(Q, j):              \n",
    "  array = np.asarray(Q) #create array             \n",
    "  idx = (np.abs(array - j)).argmin() #subtract j from each value in the array, \n",
    "    #create absolute values and find the min \n",
    "  return array[idx]                  "
   ]
  },
  {
   "cell_type": "code",
   "execution_count": 3,
   "metadata": {
    "ExecuteTime": {
     "end_time": "2021-02-04T23:13:22.801553Z",
     "start_time": "2021-02-04T23:13:22.777519Z"
    }
   },
   "outputs": [
    {
     "data": {
      "text/plain": [
       "2"
      ]
     },
     "execution_count": 3,
     "metadata": {},
     "output_type": "execute_result"
    }
   ],
   "source": [
    "Q = [1, -1, -5, 2, 4, -2, 1]\n",
    "j = 3\n",
    "find_closest(Q,j)"
   ]
  },
  {
   "cell_type": "code",
   "execution_count": null,
   "metadata": {},
   "outputs": [],
   "source": []
  }
 ],
 "metadata": {
  "kernelspec": {
   "display_name": "Python 3",
   "language": "python",
   "name": "python3"
  },
  "language_info": {
   "codemirror_mode": {
    "name": "ipython",
    "version": 3
   },
   "file_extension": ".py",
   "mimetype": "text/x-python",
   "name": "python",
   "nbconvert_exporter": "python",
   "pygments_lexer": "ipython3",
   "version": "3.7.0"
  }
 },
 "nbformat": 4,
 "nbformat_minor": 4
}
