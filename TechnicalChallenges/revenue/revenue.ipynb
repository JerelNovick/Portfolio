{
 "cells": [
  {
   "cell_type": "markdown",
   "id": "e4bccbf5",
   "metadata": {},
   "source": [
    "Given the table below, called 'orders', write code to show the average revenue by month by channel:"
   ]
  },
  {
   "cell_type": "code",
   "execution_count": 1,
   "id": "935aaabf",
   "metadata": {},
   "outputs": [
    {
     "data": {
      "text/html": [
       "<div>\n",
       "<style scoped>\n",
       "    .dataframe tbody tr th:only-of-type {\n",
       "        vertical-align: middle;\n",
       "    }\n",
       "\n",
       "    .dataframe tbody tr th {\n",
       "        vertical-align: top;\n",
       "    }\n",
       "\n",
       "    .dataframe thead th {\n",
       "        text-align: right;\n",
       "    }\n",
       "</style>\n",
       "<table border=\"1\" class=\"dataframe\">\n",
       "  <thead>\n",
       "    <tr style=\"text-align: right;\">\n",
       "      <th></th>\n",
       "      <th>order_id</th>\n",
       "      <th>channel</th>\n",
       "      <th>date</th>\n",
       "      <th>month</th>\n",
       "      <th>revenue</th>\n",
       "    </tr>\n",
       "  </thead>\n",
       "  <tbody>\n",
       "    <tr>\n",
       "      <th>0</th>\n",
       "      <td>1</td>\n",
       "      <td>Online</td>\n",
       "      <td>2018-09-01</td>\n",
       "      <td>09</td>\n",
       "      <td>100</td>\n",
       "    </tr>\n",
       "    <tr>\n",
       "      <th>1</th>\n",
       "      <td>2</td>\n",
       "      <td>Online</td>\n",
       "      <td>2018-09-03</td>\n",
       "      <td>09</td>\n",
       "      <td>125</td>\n",
       "    </tr>\n",
       "    <tr>\n",
       "      <th>2</th>\n",
       "      <td>3</td>\n",
       "      <td>In_store</td>\n",
       "      <td>2018-10-11</td>\n",
       "      <td>10</td>\n",
       "      <td>200</td>\n",
       "    </tr>\n",
       "    <tr>\n",
       "      <th>3</th>\n",
       "      <td>4</td>\n",
       "      <td>In_store</td>\n",
       "      <td>2018-08-21</td>\n",
       "      <td>08</td>\n",
       "      <td>80</td>\n",
       "    </tr>\n",
       "    <tr>\n",
       "      <th>4</th>\n",
       "      <td>5</td>\n",
       "      <td>Online</td>\n",
       "      <td>2018-08-13</td>\n",
       "      <td>08</td>\n",
       "      <td>200</td>\n",
       "    </tr>\n",
       "    <tr>\n",
       "      <th>5</th>\n",
       "      <td>6</td>\n",
       "      <td>Online</td>\n",
       "      <td>2018-10-29</td>\n",
       "      <td>10</td>\n",
       "      <td>100</td>\n",
       "    </tr>\n",
       "  </tbody>\n",
       "</table>\n",
       "</div>"
      ],
      "text/plain": [
       "   order_id   channel        date month  revenue\n",
       "0         1    Online  2018-09-01    09      100\n",
       "1         2    Online  2018-09-03    09      125\n",
       "2         3  In_store  2018-10-11    10      200\n",
       "3         4  In_store  2018-08-21    08       80\n",
       "4         5    Online  2018-08-13    08      200\n",
       "5         6    Online  2018-10-29    10      100"
      ]
     },
     "execution_count": 1,
     "metadata": {},
     "output_type": "execute_result"
    }
   ],
   "source": [
    "import pandas as pd\n",
    "raw_data = {'order_id': [1,2,3,4,5,6],\n",
    "            'channel': ['Online', 'Online', 'In_store', 'In_store','Online','Online'],\n",
    "            'date': ['2018-09-01', '2018-09-03', '2018-10-11', \"2018-08-21\",\"2018-08-13\",'2018-10-29'],\n",
    "            'month': ['09', '09', '10', '08','08','10'],\n",
    "            'revenue': [100,125,200,80,200,100]}\n",
    "df = pd.DataFrame(raw_data, columns = ['order_id', 'channel', 'date','month', 'revenue'])\n",
    "df"
   ]
  },
  {
   "cell_type": "markdown",
   "id": "a263bad2",
   "metadata": {},
   "source": [
    "Your result should return the following in a structured table:\n",
    "\n",
    "<pre>Month | Channel | Avg. Revenue</pre>"
   ]
  },
  {
   "cell_type": "code",
   "execution_count": 2,
   "id": "5a2a115a",
   "metadata": {},
   "outputs": [
    {
     "data": {
      "text/html": [
       "<div>\n",
       "<style scoped>\n",
       "    .dataframe tbody tr th:only-of-type {\n",
       "        vertical-align: middle;\n",
       "    }\n",
       "\n",
       "    .dataframe tbody tr th {\n",
       "        vertical-align: top;\n",
       "    }\n",
       "\n",
       "    .dataframe thead th {\n",
       "        text-align: right;\n",
       "    }\n",
       "</style>\n",
       "<table border=\"1\" class=\"dataframe\">\n",
       "  <thead>\n",
       "    <tr style=\"text-align: right;\">\n",
       "      <th></th>\n",
       "      <th>month</th>\n",
       "      <th>channel</th>\n",
       "      <th>avg_revenue</th>\n",
       "    </tr>\n",
       "  </thead>\n",
       "  <tbody>\n",
       "    <tr>\n",
       "      <th>0</th>\n",
       "      <td>08</td>\n",
       "      <td>In_store</td>\n",
       "      <td>80.0</td>\n",
       "    </tr>\n",
       "    <tr>\n",
       "      <th>1</th>\n",
       "      <td>08</td>\n",
       "      <td>Online</td>\n",
       "      <td>200.0</td>\n",
       "    </tr>\n",
       "    <tr>\n",
       "      <th>2</th>\n",
       "      <td>09</td>\n",
       "      <td>Online</td>\n",
       "      <td>112.5</td>\n",
       "    </tr>\n",
       "    <tr>\n",
       "      <th>3</th>\n",
       "      <td>10</td>\n",
       "      <td>In_store</td>\n",
       "      <td>200.0</td>\n",
       "    </tr>\n",
       "    <tr>\n",
       "      <th>4</th>\n",
       "      <td>10</td>\n",
       "      <td>Online</td>\n",
       "      <td>100.0</td>\n",
       "    </tr>\n",
       "  </tbody>\n",
       "</table>\n",
       "</div>"
      ],
      "text/plain": [
       "  month   channel  avg_revenue\n",
       "0    08  In_store         80.0\n",
       "1    08    Online        200.0\n",
       "2    09    Online        112.5\n",
       "3    10  In_store        200.0\n",
       "4    10    Online        100.0"
      ]
     },
     "execution_count": 2,
     "metadata": {},
     "output_type": "execute_result"
    }
   ],
   "source": [
    "#create new dataframe with only the needed columns\n",
    "df = df[['channel', 'month', 'revenue']]\n",
    "\n",
    "#pivot the dataframe\n",
    "#group by month and channell\n",
    "df_pivot = df.groupby(['month','channel']).mean().reset_index()\n",
    "df_pivot=df_pivot.rename(columns = {'revenue':'avg_revenue'})\n",
    "df_pivot"
   ]
  },
  {
   "cell_type": "code",
   "execution_count": null,
   "id": "20dda9d4",
   "metadata": {},
   "outputs": [],
   "source": []
  }
 ],
 "metadata": {
  "kernelspec": {
   "display_name": "Python 3",
   "language": "python",
   "name": "python3"
  },
  "language_info": {
   "codemirror_mode": {
    "name": "ipython",
    "version": 3
   },
   "file_extension": ".py",
   "mimetype": "text/x-python",
   "name": "python",
   "nbconvert_exporter": "python",
   "pygments_lexer": "ipython3",
   "version": "3.7.0"
  }
 },
 "nbformat": 4,
 "nbformat_minor": 5
}
