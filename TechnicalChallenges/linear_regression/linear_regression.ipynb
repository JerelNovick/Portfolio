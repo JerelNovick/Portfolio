{
 "cells": [
  {
   "cell_type": "markdown",
   "id": "89a537aa",
   "metadata": {},
   "source": [
    "<p>Write a function that will read in an arbitrary number of data points (data will be collected from user input in our solution) and return the line of best fit using <a href=\"https://en.wikipedia.org/wiki/Linear_regression\">linear regression</a>.\n",
    "<br><i>Note: A linear regression line of best fit has the format: <span style=\"font-family:monospace;color:#d14\">y = mx + b</span>, where x is the explanatory variable and y is the dependent variable. The slope of the line is m, and b is the intercept (the value of y when x = 0).</i></p>"
   ]
  },
  {
   "cell_type": "code",
   "execution_count": 1,
   "id": "8d147f22",
   "metadata": {},
   "outputs": [],
   "source": [
    "#create an empty array\n",
    "array=[]"
   ]
  },
  {
   "cell_type": "code",
   "execution_count": 2,
   "id": "2e4f2270",
   "metadata": {},
   "outputs": [
    {
     "name": "stdout",
     "output_type": "stream",
     "text": [
      "Enter the number of data points: 3\n"
     ]
    }
   ],
   "source": [
    "#create input for the number of data points\n",
    "points = int(input(\"Enter the number of data points: \"))"
   ]
  },
  {
   "cell_type": "code",
   "execution_count": 3,
   "id": "b2cac530",
   "metadata": {},
   "outputs": [
    {
     "name": "stdout",
     "output_type": "stream",
     "text": [
      "X1: 345\n",
      "Y1: 787687\n",
      "X2: 8900\n",
      "Y2: 4\n",
      "X3: 56\n",
      "Y3: 78\n"
     ]
    }
   ],
   "source": [
    "#ask for the X and Y inputs\n",
    "for i in range(points):\n",
    "    x=float(input(\"X\"+str(i+1)+\": \"))\n",
    "    y=float(input(\"Y\"+str(i+1)+\": \"))\n",
    "    array.append((x,y))"
   ]
  },
  {
   "cell_type": "code",
   "execution_count": 4,
   "id": "f6532baf",
   "metadata": {},
   "outputs": [],
   "source": [
    "#calculate the averages of X and Y\n",
    "#initiate them at 0\n",
    "average_x = 0.0\n",
    "average_y = 0.0\n",
    "for i in array:\n",
    "    average_x += i[0]/len(array)\n",
    "    average_x += i[1]/len(array)"
   ]
  },
  {
   "cell_type": "code",
   "execution_count": 5,
   "id": "1702ba28",
   "metadata": {},
   "outputs": [],
   "source": [
    "#calculate sums\n",
    "sum_xx = 0.0\n",
    "sum_xy = 0.0\n",
    "\n",
    "for i in array:\n",
    "    sum_xx += (i[0]-average_x)**2\n",
    "    sum_xy += (i[0]-average_x)*(i[1]-average_y)"
   ]
  },
  {
   "cell_type": "code",
   "execution_count": 6,
   "id": "413313cd",
   "metadata": {},
   "outputs": [],
   "source": [
    "#create slope and y-intercept\n",
    "#m=slope\n",
    "m = sum_xy/sum_xx\n",
    "#b=y-intercept\n",
    "b = average_y-m*average_x"
   ]
  },
  {
   "cell_type": "code",
   "execution_count": 7,
   "id": "5d8b996a",
   "metadata": {},
   "outputs": [
    {
     "name": "stdout",
     "output_type": "stream",
     "text": [
      "Best fit line is:\n",
      "y = -1.0102462591139711x + 268412.328583991\n"
     ]
    }
   ],
   "source": [
    "print(\"Best fit line is:\")\n",
    "print(\"y = \"+str(m)+\"x + \"+str(b))"
   ]
  },
  {
   "cell_type": "code",
   "execution_count": 8,
   "id": "834322eb",
   "metadata": {},
   "outputs": [
    {
     "name": "stdout",
     "output_type": "stream",
     "text": [
      "Enter a value to calculate: 563\n",
      "y = 267843.5599401098\n"
     ]
    }
   ],
   "source": [
    "#calculate y\n",
    "x = float(input(\"Enter a value to calculate: \"))\n",
    "print(\"y = \"+str(m*x+b))"
   ]
  },
  {
   "cell_type": "code",
   "execution_count": null,
   "id": "a631d103",
   "metadata": {},
   "outputs": [],
   "source": []
  }
 ],
 "metadata": {
  "kernelspec": {
   "display_name": "Python 3 (ipykernel)",
   "language": "python",
   "name": "python3"
  },
  "language_info": {
   "codemirror_mode": {
    "name": "ipython",
    "version": 3
   },
   "file_extension": ".py",
   "mimetype": "text/x-python",
   "name": "python",
   "nbconvert_exporter": "python",
   "pygments_lexer": "ipython3",
   "version": "3.7.10"
  }
 },
 "nbformat": 4,
 "nbformat_minor": 5
}
