{
 "cells": [
  {
   "cell_type": "markdown",
   "id": "3ffd0fda",
   "metadata": {},
   "source": [
    "<p>Given a <a href ='https://en.wikipedia.org/wiki/Roman_numerals'>Roman numeral</a> string, write a Python function that returns the corresponding integer value. Keep in mind that Roman numerals also use subtractive notion, for example, IV corresponds to 4.</p>\n",
    "<p>Below are the values for Roman numerals:</p>\n",
    "<table style=\"margin:1em auto\" class=\"dataframe\">\n",
    "<thead>\n",
    "  <tr>\n",
    "      <th>Symbol</th>\n",
    "      <th>Value</th>\n",
    "  </tr>\n",
    "</thead>\n",
    "<tbody>\n",
    "  <tr>\n",
    "      <td>I</td>\n",
    "      <td>1</td>\n",
    "  </tr>\n",
    "  <tr>\n",
    "      <td>V</td>\n",
    "      <td>5</td>\n",
    "  </tr>\n",
    "  <tr>\n",
    "      <td>X</td>\n",
    "      <td>10</td>\n",
    "  </tr>\n",
    "  <tr>\n",
    "      <td>L</td>\n",
    "      <td>50</td>\n",
    "  </tr>\n",
    "  <tr>\n",
    "      <td>C</td>\n",
    "      <td>100</td>\n",
    "  </tr>\n",
    "  <tr>\n",
    "      <td>D</td>\n",
    "      <td>500</td>\n",
    "  </tr>\n",
    "  <tr>\n",
    "      <td>M</td>\n",
    "      <td>1000</td>\n",
    "  </tr>\n",
    "  </tbody>\n",
    "</table>\n",
    "\n",
    "\n"
   ]
  },
  {
   "cell_type": "code",
   "execution_count": 4,
   "id": "20ddb75a",
   "metadata": {},
   "outputs": [],
   "source": [
    "#create a dictionary of Roman numerals\n",
    "\n",
    "def roman(r):\n",
    "    value={\n",
    "        'I':1,\n",
    "        'V':5,\n",
    "        'X':10,\n",
    "        'L':50,\n",
    "        'C':100,\n",
    "        'D':500,\n",
    "        'M':1000\n",
    "    }\n",
    "    \n",
    "    #create variable for previous answer and interger\n",
    "    pre=0\n",
    "    integer=0\n",
    "    \n",
    "    #create loop\n",
    "    n=len(r)\n",
    "    \n",
    "    for i in range (n-1,-1,-1):\n",
    "        \n",
    "        # if greater than or equal to previous, \n",
    "        # add to answer  \n",
    "        if value[r[i]] >= pre: \n",
    "            integer += value[r[i]] \n",
    "  \n",
    "        # if smaller than previous, subtract\n",
    "        else: \n",
    "            integer -= value[r[i]] \n",
    "  \n",
    "        # update previous \n",
    "        pre = value[r[i]] \n",
    "    print(integer)"
   ]
  },
  {
   "cell_type": "code",
   "execution_count": 5,
   "id": "5296bab1",
   "metadata": {},
   "outputs": [
    {
     "name": "stdout",
     "output_type": "stream",
     "text": [
      "4\n"
     ]
    }
   ],
   "source": [
    "roman('IV')"
   ]
  },
  {
   "cell_type": "code",
   "execution_count": 7,
   "id": "af179995",
   "metadata": {},
   "outputs": [
    {
     "name": "stdout",
     "output_type": "stream",
     "text": [
      "1904\n"
     ]
    }
   ],
   "source": [
    "roman('MCMIV')"
   ]
  },
  {
   "cell_type": "code",
   "execution_count": null,
   "id": "2cb88a2a",
   "metadata": {},
   "outputs": [],
   "source": []
  }
 ],
 "metadata": {
  "kernelspec": {
   "display_name": "Python 3 (ipykernel)",
   "language": "python",
   "name": "python3"
  },
  "language_info": {
   "codemirror_mode": {
    "name": "ipython",
    "version": 3
   },
   "file_extension": ".py",
   "mimetype": "text/x-python",
   "name": "python",
   "nbconvert_exporter": "python",
   "pygments_lexer": "ipython3",
   "version": "3.7.10"
  }
 },
 "nbformat": 4,
 "nbformat_minor": 5
}
