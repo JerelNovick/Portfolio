{
 "cells": [
  {
   "cell_type": "markdown",
   "id": "3ffd0fda",
   "metadata": {},
   "source": [
    "<p>Given a <a href ='https://en.wikipedia.org/wiki/Roman_numerals'>Roman numeral</a> string, write a Python function that returns the corresponding integer value. Keep in mind that Roman numerals also use subtractive notion, for example, IV corresponds to 4.</p>\n",
    "<p>Below are the values for Roman numerals:</p>\n",
    "<table style=\"margin:1em auto\" class=\"dataframe\">\n",
    "<thead>\n",
    "  <tr>\n",
    "      <th>Symbol</th>\n",
    "      <th>Value</th>\n",
    "  </tr>\n",
    "</thead>\n",
    "<tbody>\n",
    "  <tr>\n",
    "      <td>I</td>\n",
    "      <td>1</td>\n",
    "  </tr>\n",
    "  <tr>\n",
    "      <td>V</td>\n",
    "      <td>5</td>\n",
    "  </tr>\n",
    "  <tr>\n",
    "      <td>X</td>\n",
    "      <td>10</td>\n",
    "  </tr>\n",
    "  <tr>\n",
    "      <td>L</td>\n",
    "      <td>50</td>\n",
    "  </tr>\n",
    "  <tr>\n",
    "      <td>C</td>\n",
    "      <td>100</td>\n",
    "  </tr>\n",
    "  <tr>\n",
    "      <td>D</td>\n",
    "      <td>500</td>\n",
    "  </tr>\n",
    "  <tr>\n",
    "      <td>M</td>\n",
    "      <td>1000</td>\n",
    "  </tr>\n",
    "  </tbody>\n",
    "</table>\n",
    "\n",
    "\n"
   ]
  },
  {
   "cell_type": "code",
   "execution_count": 13,
   "id": "20ddb75a",
   "metadata": {},
   "outputs": [],
   "source": [
    "import inquirer\n",
    "#create a dictionary of Roman numerals\n",
    "\n",
    "def roman(r):\n",
    "    value={\n",
    "        'I':1,\n",
    "        'V':5,\n",
    "        'X':10,\n",
    "        'L':50,\n",
    "        'C':100,\n",
    "        'D':500,\n",
    "        'M':1000\n",
    "    }\n",
    "    \n",
    "    #create variable for previous answer and interger\n",
    "    pre=0\n",
    "    integer=0\n",
    "    \n",
    "    #create loop\n",
    "    n=len(r)\n",
    "    \n",
    "    for i in range (n-1,-1,-1):\n",
    "        \n",
    "        # if greater than or equal to previous, \n",
    "        # add to answer  \n",
    "        if value[r[i]] >= pre: \n",
    "            integer += value[r[i]] \n",
    "  \n",
    "        # if smaller than previous, subtract\n",
    "        else: \n",
    "            integer -= value[r[i]] \n",
    "  \n",
    "        # update previous \n",
    "        pre = value[r[i]] \n",
    "    print(integer)"
   ]
  },
  {
   "cell_type": "code",
   "execution_count": null,
   "id": "5296bab1",
   "metadata": {},
   "outputs": [],
   "source": [
    "roman('IV')"
   ]
  },
  {
   "cell_type": "code",
   "execution_count": null,
   "id": "af179995",
   "metadata": {},
   "outputs": [],
   "source": [
    "roman('MCMIV')"
   ]
  },
  {
   "cell_type": "code",
   "execution_count": 10,
   "id": "2cb88a2a",
   "metadata": {},
   "outputs": [],
   "source": [
    "def jackson():\n",
    "    r=input(\"Enter a number to convert:\")\n",
    "    roman(r)"
   ]
  },
  {
   "cell_type": "code",
   "execution_count": 14,
   "id": "c518d462",
   "metadata": {},
   "outputs": [
    {
     "name": "stdout",
     "output_type": "stream",
     "text": [
      "Enter a number to convert:679\n"
     ]
    },
    {
     "ename": "KeyError",
     "evalue": "'9'",
     "output_type": "error",
     "traceback": [
      "\u001b[0;31m---------------------------------------------------------------------------\u001b[0m",
      "\u001b[0;31mKeyError\u001b[0m                                  Traceback (most recent call last)",
      "\u001b[0;32m/var/folders/s3/90bqkdx57qv00gcmg8dwnzlm0000gn/T/ipykernel_6657/4288750183.py\u001b[0m in \u001b[0;36m<module>\u001b[0;34m\u001b[0m\n\u001b[0;32m----> 1\u001b[0;31m \u001b[0mjackson\u001b[0m\u001b[0;34m(\u001b[0m\u001b[0;34m)\u001b[0m\u001b[0;34m\u001b[0m\u001b[0;34m\u001b[0m\u001b[0m\n\u001b[0m",
      "\u001b[0;32m/var/folders/s3/90bqkdx57qv00gcmg8dwnzlm0000gn/T/ipykernel_6657/1738273813.py\u001b[0m in \u001b[0;36mjackson\u001b[0;34m()\u001b[0m\n\u001b[1;32m      1\u001b[0m \u001b[0;32mdef\u001b[0m \u001b[0mjackson\u001b[0m\u001b[0;34m(\u001b[0m\u001b[0;34m)\u001b[0m\u001b[0;34m:\u001b[0m\u001b[0;34m\u001b[0m\u001b[0;34m\u001b[0m\u001b[0m\n\u001b[1;32m      2\u001b[0m     \u001b[0mr\u001b[0m\u001b[0;34m=\u001b[0m\u001b[0minput\u001b[0m\u001b[0;34m(\u001b[0m\u001b[0;34m\"Enter a number to convert:\"\u001b[0m\u001b[0;34m)\u001b[0m\u001b[0;34m\u001b[0m\u001b[0;34m\u001b[0m\u001b[0m\n\u001b[0;32m----> 3\u001b[0;31m     \u001b[0mroman\u001b[0m\u001b[0;34m(\u001b[0m\u001b[0mr\u001b[0m\u001b[0;34m)\u001b[0m\u001b[0;34m\u001b[0m\u001b[0;34m\u001b[0m\u001b[0m\n\u001b[0m",
      "\u001b[0;32m/var/folders/s3/90bqkdx57qv00gcmg8dwnzlm0000gn/T/ipykernel_6657/617819879.py\u001b[0m in \u001b[0;36mroman\u001b[0;34m(r)\u001b[0m\n\u001b[1;32m     24\u001b[0m         \u001b[0;31m# if greater than or equal to previous,\u001b[0m\u001b[0;34m\u001b[0m\u001b[0;34m\u001b[0m\u001b[0;34m\u001b[0m\u001b[0m\n\u001b[1;32m     25\u001b[0m         \u001b[0;31m# add to answer\u001b[0m\u001b[0;34m\u001b[0m\u001b[0;34m\u001b[0m\u001b[0;34m\u001b[0m\u001b[0m\n\u001b[0;32m---> 26\u001b[0;31m         \u001b[0;32mif\u001b[0m \u001b[0mvalue\u001b[0m\u001b[0;34m[\u001b[0m\u001b[0mr\u001b[0m\u001b[0;34m[\u001b[0m\u001b[0mi\u001b[0m\u001b[0;34m]\u001b[0m\u001b[0;34m]\u001b[0m \u001b[0;34m>=\u001b[0m \u001b[0mpre\u001b[0m\u001b[0;34m:\u001b[0m\u001b[0;34m\u001b[0m\u001b[0;34m\u001b[0m\u001b[0m\n\u001b[0m\u001b[1;32m     27\u001b[0m             \u001b[0minteger\u001b[0m \u001b[0;34m+=\u001b[0m \u001b[0mvalue\u001b[0m\u001b[0;34m[\u001b[0m\u001b[0mr\u001b[0m\u001b[0;34m[\u001b[0m\u001b[0mi\u001b[0m\u001b[0;34m]\u001b[0m\u001b[0;34m]\u001b[0m\u001b[0;34m\u001b[0m\u001b[0;34m\u001b[0m\u001b[0m\n\u001b[1;32m     28\u001b[0m \u001b[0;34m\u001b[0m\u001b[0m\n",
      "\u001b[0;31mKeyError\u001b[0m: '9'"
     ]
    }
   ],
   "source": [
    "jackson()"
   ]
  },
  {
   "cell_type": "code",
   "execution_count": 8,
   "id": "fae2670c",
   "metadata": {},
   "outputs": [
    {
     "name": "stdout",
     "output_type": "stream",
     "text": [
      "Enter a number to convert:5067\n"
     ]
    },
    {
     "ename": "KeyError",
     "evalue": "'7'",
     "output_type": "error",
     "traceback": [
      "\u001b[0;31m---------------------------------------------------------------------------\u001b[0m",
      "\u001b[0;31mKeyError\u001b[0m                                  Traceback (most recent call last)",
      "\u001b[0;32m/var/folders/s3/90bqkdx57qv00gcmg8dwnzlm0000gn/T/ipykernel_6657/1256402140.py\u001b[0m in \u001b[0;36m<module>\u001b[0;34m\u001b[0m\n\u001b[0;32m----> 1\u001b[0;31m \u001b[0mroman\u001b[0m\u001b[0;34m(\u001b[0m\u001b[0;34m)\u001b[0m\u001b[0;34m\u001b[0m\u001b[0;34m\u001b[0m\u001b[0m\n\u001b[0m",
      "\u001b[0;32m/var/folders/s3/90bqkdx57qv00gcmg8dwnzlm0000gn/T/ipykernel_6657/3160403268.py\u001b[0m in \u001b[0;36mroman\u001b[0;34m()\u001b[0m\n\u001b[1;32m     25\u001b[0m         \u001b[0;31m# if greater than or equal to previous,\u001b[0m\u001b[0;34m\u001b[0m\u001b[0;34m\u001b[0m\u001b[0;34m\u001b[0m\u001b[0m\n\u001b[1;32m     26\u001b[0m         \u001b[0;31m# add to answer\u001b[0m\u001b[0;34m\u001b[0m\u001b[0;34m\u001b[0m\u001b[0;34m\u001b[0m\u001b[0m\n\u001b[0;32m---> 27\u001b[0;31m         \u001b[0;32mif\u001b[0m \u001b[0mvalue\u001b[0m\u001b[0;34m[\u001b[0m\u001b[0mr\u001b[0m\u001b[0;34m[\u001b[0m\u001b[0mi\u001b[0m\u001b[0;34m]\u001b[0m\u001b[0;34m]\u001b[0m \u001b[0;34m>=\u001b[0m \u001b[0mpre\u001b[0m\u001b[0;34m:\u001b[0m\u001b[0;34m\u001b[0m\u001b[0;34m\u001b[0m\u001b[0m\n\u001b[0m\u001b[1;32m     28\u001b[0m             \u001b[0minteger\u001b[0m \u001b[0;34m+=\u001b[0m \u001b[0mvalue\u001b[0m\u001b[0;34m[\u001b[0m\u001b[0mr\u001b[0m\u001b[0;34m[\u001b[0m\u001b[0mi\u001b[0m\u001b[0;34m]\u001b[0m\u001b[0;34m]\u001b[0m\u001b[0;34m\u001b[0m\u001b[0;34m\u001b[0m\u001b[0m\n\u001b[1;32m     29\u001b[0m \u001b[0;34m\u001b[0m\u001b[0m\n",
      "\u001b[0;31mKeyError\u001b[0m: '7'"
     ]
    }
   ],
   "source": [
    "roman()"
   ]
  },
  {
   "cell_type": "code",
   "execution_count": null,
   "id": "631a92ee",
   "metadata": {},
   "outputs": [],
   "source": []
  }
 ],
 "metadata": {
  "kernelspec": {
   "display_name": "Python 3 (ipykernel)",
   "language": "python",
   "name": "python3"
  },
  "language_info": {
   "codemirror_mode": {
    "name": "ipython",
    "version": 3
   },
   "file_extension": ".py",
   "mimetype": "text/x-python",
   "name": "python",
   "nbconvert_exporter": "python",
   "pygments_lexer": "ipython3",
   "version": "3.7.10"
  }
 },
 "nbformat": 4,
 "nbformat_minor": 5
}
