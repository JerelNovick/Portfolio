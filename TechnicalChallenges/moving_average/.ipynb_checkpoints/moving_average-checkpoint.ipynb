{
 "cells": [
  {
   "cell_type": "markdown",
   "metadata": {},
   "source": [
    "Calculating a moving average using Python"
   ]
  },
  {
   "cell_type": "markdown",
   "metadata": {},
   "source": [
    "Suppose you are given a list of numbers, <b>J</b>, and a single number, <b>p</b>. \n",
    "\n",
    "Write a function to return the minimum and maximum averages of the sequences of p numbers in the list J.\n",
    "\n",
    "Example:\n",
    "\n",
    "<pre>\n",
    "J = [4, 4, 4, 9, 10, 11, 12]\n",
    "\n",
    "p = 3\n",
    "</pre>\n",
    "\n",
    "The sequences will be:\n",
    "<pre>\n",
    "\n",
    "(4,4,4)\n",
    "\n",
    "(4,4,9)\n",
    "\n",
    "(4,9,10)\n",
    "\n",
    "(9,10,11)\n",
    "\n",
    "(10,11,12)\n",
    "\n",
    "</pre>\n",
    "\n",
    "Here the minimum average will be 4 and the maximum average will be 11, which corresponds to the first and last sequences."
   ]
  },
  {
   "cell_type": "code",
   "execution_count": 1,
   "metadata": {
    "ExecuteTime": {
     "end_time": "2021-02-04T22:37:33.410259Z",
     "start_time": "2021-02-04T22:37:33.402399Z"
    }
   },
   "outputs": [],
   "source": [
    "def average(J,p):\n",
    "    #create sequence J of length p\n",
    "    if len(J) < p:\n",
    "        return(None, None)\n",
    "    \n",
    "    current=0\n",
    "    for i in range(p):\n",
    "        current +=J[i]\n",
    "    \n",
    "    #create new variable to track the high and low values\n",
    "    low = high = current\n",
    "    \n",
    "    for i in range(p, len(J)):\n",
    "        current = current - J[i-p] + J[i]\n",
    "        low = min(low, current)\n",
    "        high = max(high,current)\n",
    "    return (low/p, high/p)"
   ]
  },
  {
   "cell_type": "code",
   "execution_count": 2,
   "metadata": {
    "ExecuteTime": {
     "end_time": "2021-02-04T22:37:33.839030Z",
     "start_time": "2021-02-04T22:37:33.822818Z"
    }
   },
   "outputs": [
    {
     "data": {
      "text/plain": [
       "(4.0, 11.0)"
      ]
     },
     "execution_count": 2,
     "metadata": {},
     "output_type": "execute_result"
    }
   ],
   "source": [
    "J = [4, 4, 4, 9, 10, 11, 12]\n",
    "\n",
    "p = 3\n",
    "average(J, p)"
   ]
  },
  {
   "cell_type": "code",
   "execution_count": null,
   "metadata": {},
   "outputs": [],
   "source": []
  }
 ],
 "metadata": {
  "kernelspec": {
   "display_name": "Python [conda env:dsi] *",
   "language": "python",
   "name": "conda-env-dsi-py"
  },
  "language_info": {
   "codemirror_mode": {
    "name": "ipython",
    "version": 3
   },
   "file_extension": ".py",
   "mimetype": "text/x-python",
   "name": "python",
   "nbconvert_exporter": "python",
   "pygments_lexer": "ipython3",
   "version": "3.7.8"
  }
 },
 "nbformat": 4,
 "nbformat_minor": 4
}
