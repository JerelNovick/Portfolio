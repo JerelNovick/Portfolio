{
 "cells": [
  {
   "cell_type": "markdown",
   "id": "facial-rotation",
   "metadata": {},
   "source": [
    "Given an array with k distinct elements, write a function to return all elements that have at least two elements greater than themselves in the same array:\n",
    "For example, given the following array: array = [2,3,9,7,6]\n",
    "Your function should return: [2,3,6]"
   ]
  },
  {
   "cell_type": "code",
   "execution_count": 1,
   "id": "compatible-joint",
   "metadata": {},
   "outputs": [],
   "source": [
    "#create function\n",
    "def greatest(array,k):\n",
    "    #sort array\n",
    "    array.sort()\n",
    "    #after sorting the last two element of the array will naturally be the greatest\n",
    "    for i in range(0,k-2):\n",
    "        print(array[i], end =\" \")"
   ]
  },
  {
   "cell_type": "code",
   "execution_count": 2,
   "id": "stupid-roulette",
   "metadata": {},
   "outputs": [
    {
     "name": "stdout",
     "output_type": "stream",
     "text": [
      "2 3 6 "
     ]
    }
   ],
   "source": [
    "#test using example set\n",
    "array = [2,3,9,7,6]\n",
    "k = len(array) \n",
    "greatest(array,k)"
   ]
  },
  {
   "cell_type": "code",
   "execution_count": 3,
   "id": "different-honor",
   "metadata": {},
   "outputs": [
    {
     "name": "stdout",
     "output_type": "stream",
     "text": [
      "3 7 9 34 35 42 45 "
     ]
    }
   ],
   "source": [
    "#test using custom set\n",
    "array = [42,3,9,7,56, 78, 34, 45, 35]\n",
    "k = len(array) \n",
    "greatest(array,k)"
   ]
  }
 ],
 "metadata": {
  "kernelspec": {
   "display_name": "Python 3",
   "language": "python",
   "name": "python3"
  },
  "language_info": {
   "codemirror_mode": {
    "name": "ipython",
    "version": 3
   },
   "file_extension": ".py",
   "mimetype": "text/x-python",
   "name": "python",
   "nbconvert_exporter": "python",
   "pygments_lexer": "ipython3",
   "version": "3.7.0"
  }
 },
 "nbformat": 4,
 "nbformat_minor": 5
}
