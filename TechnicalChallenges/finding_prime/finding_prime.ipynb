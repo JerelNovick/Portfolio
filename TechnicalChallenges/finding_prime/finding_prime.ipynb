{
 "cells": [
  {
   "cell_type": "markdown",
   "id": "104ce1b3",
   "metadata": {},
   "source": [
    "A prime number (or a prime) is a natural number greater than 1 that cannot be formed by multiplying two smaller natural numbers. \n",
    "\n",
    "Given a single #, n, write a function using python to return whether or not the # is prime. Additionally, if the inputted # is prime, save it into an array, a."
   ]
  },
  {
   "cell_type": "code",
   "execution_count": 1,
   "id": "d5767125",
   "metadata": {},
   "outputs": [],
   "source": [
    "#create empty array\n",
    "a = []\n",
    "\n",
    "def prime(x):\n",
    "    if x < 2:\n",
    "      #numbers less than 2 are not prime\n",
    "      return False\n",
    "    else:\n",
    "        for n in range(2,x):\n",
    "          #run through numbers from 2 to x\n",
    "          if x % n == 0:\n",
    "                return print(x,'is not a prime number.')\n",
    "      #s that don't meet the above conditions are prime! save them to our array, a\n",
    "        a.append(x)\n",
    "        return print(x,'is a prime number.')"
   ]
  },
  {
   "cell_type": "code",
   "execution_count": 2,
   "id": "fbc8c4ba",
   "metadata": {},
   "outputs": [
    {
     "name": "stdout",
     "output_type": "stream",
     "text": [
      "53 is a prime number.\n"
     ]
    }
   ],
   "source": [
    "#test function\n",
    "prime(53)"
   ]
  },
  {
   "cell_type": "code",
   "execution_count": 3,
   "id": "8d2574a1",
   "metadata": {},
   "outputs": [
    {
     "name": "stdout",
     "output_type": "stream",
     "text": [
      "52 is not a prime number.\n"
     ]
    }
   ],
   "source": [
    "prime(52)"
   ]
  },
  {
   "cell_type": "code",
   "execution_count": 4,
   "id": "c7d40364",
   "metadata": {},
   "outputs": [
    {
     "data": {
      "text/plain": [
       "[53]"
      ]
     },
     "execution_count": 4,
     "metadata": {},
     "output_type": "execute_result"
    }
   ],
   "source": [
    "#return the value of the array \n",
    "a"
   ]
  },
  {
   "cell_type": "code",
   "execution_count": null,
   "id": "b863c161",
   "metadata": {},
   "outputs": [],
   "source": []
  }
 ],
 "metadata": {
  "kernelspec": {
   "display_name": "Python 3",
   "language": "python",
   "name": "python3"
  },
  "language_info": {
   "codemirror_mode": {
    "name": "ipython",
    "version": 3
   },
   "file_extension": ".py",
   "mimetype": "text/x-python",
   "name": "python",
   "nbconvert_exporter": "python",
   "pygments_lexer": "ipython3",
   "version": "3.7.0"
  }
 },
 "nbformat": 4,
 "nbformat_minor": 5
}
