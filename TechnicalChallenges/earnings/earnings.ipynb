{
 "cells": [
  {
   "cell_type": "markdown",
   "id": "2a339023",
   "metadata": {},
   "source": [
    "Suppose an individual is taxed 30% if earnings for a given week are > = 2,000 USD. \n",
    "\n",
    "If earnings land < 2,000 USD for the week, the individual is taxed at a lower rate of 15%.\n",
    "\n",
    "Write a function using Python to calculate both the pre-tax and post-tax earnings for a given individual, with the ability to feed in the hourly wage and the weekly hours as inputs.\n",
    "\n",
    "For example, if an individual earns $55/hour and works for 40 hours, the function should return:\n",
    "\n",
    "\n",
    "*   Pre-tax earnings were 55*40 = 2,200 for the week.\n",
    "\n",
    "*  Post-tax earnings were 1,540 for the week [2,200 *.7 (since we fall in higher 30 percent tax bracket here)]"
   ]
  },
  {
   "cell_type": "code",
   "execution_count": 1,
   "id": "ffac1d4e",
   "metadata": {},
   "outputs": [],
   "source": [
    "def calcEarnings(hours, wage):\n",
    "  earnings = hours*wage\n",
    "  if earnings >= 2000:\n",
    "    #30% tax earnings above $2000\n",
    "    earnings = earnings*.70\n",
    "  else:\n",
    "    #15% rate for earnings below $2000\n",
    "    earnings = earnings*.85\n",
    "  return earnings"
   ]
  },
  {
   "cell_type": "code",
   "execution_count": 2,
   "id": "7c8a60b9",
   "metadata": {},
   "outputs": [],
   "source": [
    "#return the gross earnings\n",
    "def calcEarnings_pretax(hours, wage):\n",
    "  earnings = hours*wage\n",
    "  return earnings"
   ]
  },
  {
   "cell_type": "code",
   "execution_count": 5,
   "id": "f5f15096",
   "metadata": {},
   "outputs": [],
   "source": [
    "def calc():\n",
    "  hours = float(input('Enter hours worked for the week: '))\n",
    "  wage = float(input('Enter dollars paid per hour: '))\n",
    "  total = calcEarnings(hours, wage)\n",
    "  total_pre_tax = calcEarnings_pretax(hours, wage)\n",
    "  taxes = total_pre_tax - total\n",
    "  \n",
    "  print('Your pre-tax earnings for {hours} hours at ${wage:.2f} per hour are ${total_pre_tax:.2f}.'\n",
    "        .format(**locals()))\n",
    "  print('Your after tax earnings for {hours} hours at ${wage:.2f} per hour are ${total:.2f}.'\n",
    "        .format(**locals()))\n",
    "  print('Paid ${taxes:.2f} this week!'\n",
    "        .format(**locals()))"
   ]
  },
  {
   "cell_type": "code",
   "execution_count": 6,
   "id": "ea48d859",
   "metadata": {},
   "outputs": [
    {
     "name": "stdout",
     "output_type": "stream",
     "text": [
      "Enter hours worked for the week: 35\n",
      "Enter dollars paid per hour: 120\n",
      "Your pre-tax earnings for 35.0 hours at $120.00 per hour are $4200.00.\n",
      "Your after tax earnings for 35.0 hours at $120.00 per hour are $2940.00.\n",
      "Paid $1260.00 this week!\n"
     ]
    }
   ],
   "source": [
    "calc()"
   ]
  },
  {
   "cell_type": "code",
   "execution_count": null,
   "id": "91f8b578",
   "metadata": {},
   "outputs": [],
   "source": []
  }
 ],
 "metadata": {
  "kernelspec": {
   "display_name": "Python 3",
   "language": "python",
   "name": "python3"
  },
  "language_info": {
   "codemirror_mode": {
    "name": "ipython",
    "version": 3
   },
   "file_extension": ".py",
   "mimetype": "text/x-python",
   "name": "python",
   "nbconvert_exporter": "python",
   "pygments_lexer": "ipython3",
   "version": "3.7.0"
  }
 },
 "nbformat": 4,
 "nbformat_minor": 5
}
